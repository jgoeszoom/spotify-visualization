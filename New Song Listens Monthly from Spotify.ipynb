{
 "cells": [
  {
   "cell_type": "markdown",
   "id": "054505ff",
   "metadata": {},
   "source": [
    "# Finding the Number of New Song Listens per Month"
   ]
  },
  {
   "cell_type": "markdown",
   "id": "f1efe37f",
   "metadata": {},
   "source": [
    "## Modules"
   ]
  },
  {
   "cell_type": "code",
   "execution_count": 16,
   "id": "d2cdd2a6",
   "metadata": {},
   "outputs": [],
   "source": [
    "import pandas as pd\n",
    "import numpy as np\n",
    "import json\n",
    "import ast"
   ]
  },
  {
   "cell_type": "markdown",
   "id": "e72c324f",
   "metadata": {},
   "source": [
    "## Function Converting String Dictionaries to Literal Dictionaries"
   ]
  },
  {
   "cell_type": "markdown",
   "id": "10336b4a",
   "metadata": {},
   "source": [
    "The JSON file containing the personal library information is a JSON file with nested objects. When the file is read, the entries are returned as string representations of a Python dictionary. This function is used to convert those string dictionaries to literal dictionaries and put it into an appropriate Pandas DataFrame format. "
   ]
  },
  {
   "cell_type": "code",
   "execution_count": 17,
   "id": "bbc7d8d3",
   "metadata": {},
   "outputs": [],
   "source": [
    "def strDictsToDF(strDicts): \n",
    "    \"\"\"\n",
    "    Makes a new Pandas Dataframe object\n",
    "    from the literal interpretation of another Dataframe\n",
    "    containing string representations of Python dictionaries.\n",
    "    To be used when parsing the YourLibrary.json\n",
    "    Input: DataFrame of dictionaries represented as strings\n",
    "    Output: DataFrame created from the literal interpretation of those string dictionaries\n",
    "                 as actual Python dictionaries. \n",
    "    \"\"\"\n",
    "    for i in range (0, len(strDicts)):\n",
    "        # The ast module allows literal interpretation of the string dictionaries\n",
    "        temp_dict = ast.literal_eval(str(strDicts.loc[i][0]))\n",
    "        \n",
    "        # This is to find the dictionary keys which will be the column names.  \n",
    "        # However, \n",
    "        if i == 0: \n",
    "            try:\n",
    "                output = pd.DataFrame(columns=temp_dict.keys())\n",
    "            except:\n",
    "                print(\"An exception occurred: Object of Nonetype found in first position\")\n",
    "                return\n",
    "            \n",
    "        # Converts the dictionary values into literals and puts them into a dataframe row\n",
    "        try: \n",
    "            output.loc[i] = temp_dict.values()\n",
    "        except:\n",
    "            print(\"An exception occurred: Object of Nonetype found before expected end\")\n",
    "            break\n",
    "    return output; "
   ]
  },
  {
   "cell_type": "markdown",
   "id": "a42c22ac",
   "metadata": {},
   "source": [
    "## JSON Filepaths"
   ]
  },
  {
   "cell_type": "markdown",
   "id": "20ecc9c9",
   "metadata": {},
   "source": [
    "These two filepaths are for the two JSON files containing the required information to find new song listens each month. "
   ]
  },
  {
   "cell_type": "code",
   "execution_count": 18,
   "id": "0530980d",
   "metadata": {},
   "outputs": [],
   "source": [
    "streamingPath = 'my_spotify_data\\MyData\\StreamingHistory0.json'\n",
    "libraryPath = 'my_spotify_data\\MyData\\YourLibrary.json'"
   ]
  },
  {
   "cell_type": "markdown",
   "id": "c805eed3",
   "metadata": {},
   "source": [
    "## Read the streaming history JSON file"
   ]
  },
  {
   "cell_type": "code",
   "execution_count": 19,
   "id": "11d466bf",
   "metadata": {
    "scrolled": true
   },
   "outputs": [
    {
     "data": {
      "text/html": [
       "<div>\n",
       "<style scoped>\n",
       "    .dataframe tbody tr th:only-of-type {\n",
       "        vertical-align: middle;\n",
       "    }\n",
       "\n",
       "    .dataframe tbody tr th {\n",
       "        vertical-align: top;\n",
       "    }\n",
       "\n",
       "    .dataframe thead th {\n",
       "        text-align: right;\n",
       "    }\n",
       "</style>\n",
       "<table border=\"1\" class=\"dataframe\">\n",
       "  <thead>\n",
       "    <tr style=\"text-align: right;\">\n",
       "      <th></th>\n",
       "      <th>endTime</th>\n",
       "      <th>artistName</th>\n",
       "      <th>trackName</th>\n",
       "      <th>msPlayed</th>\n",
       "      <th>minsPlayed</th>\n",
       "      <th>UniqueID</th>\n",
       "    </tr>\n",
       "  </thead>\n",
       "  <tbody>\n",
       "    <tr>\n",
       "      <th>0</th>\n",
       "      <td>2020-09-28 08:07</td>\n",
       "      <td>Hikaru Utada</td>\n",
       "      <td>Automatic - Johnny Vicious Remix</td>\n",
       "      <td>225017</td>\n",
       "      <td>3.750283</td>\n",
       "      <td>Hikaru Utada:Automatic - Johnny Vicious Remix</td>\n",
       "    </tr>\n",
       "    <tr>\n",
       "      <th>1</th>\n",
       "      <td>2020-09-28 18:59</td>\n",
       "      <td>Past Gas by Donut Media</td>\n",
       "      <td>The Murder of Racing Legend Mickey Thompson Pt.1</td>\n",
       "      <td>1587110</td>\n",
       "      <td>26.451833</td>\n",
       "      <td>Past Gas by Donut Media:The Murder of Racing L...</td>\n",
       "    </tr>\n",
       "    <tr>\n",
       "      <th>2</th>\n",
       "      <td>2020-09-29 21:19</td>\n",
       "      <td>Mamak Sessions</td>\n",
       "      <td>Episode 66 - From Giving Up, To Getting A NETF...</td>\n",
       "      <td>2934420</td>\n",
       "      <td>48.907000</td>\n",
       "      <td>Mamak Sessions:Episode 66 - From Giving Up, To...</td>\n",
       "    </tr>\n",
       "    <tr>\n",
       "      <th>3</th>\n",
       "      <td>2020-10-01 07:14</td>\n",
       "      <td>Mamak Sessions</td>\n",
       "      <td>Episode 66 - From Giving Up, To Getting A NETF...</td>\n",
       "      <td>927154</td>\n",
       "      <td>15.452567</td>\n",
       "      <td>Mamak Sessions:Episode 66 - From Giving Up, To...</td>\n",
       "    </tr>\n",
       "    <tr>\n",
       "      <th>4</th>\n",
       "      <td>2020-10-01 14:47</td>\n",
       "      <td>Mamak Sessions</td>\n",
       "      <td>Episode 66 - From Giving Up, To Getting A NETF...</td>\n",
       "      <td>91735</td>\n",
       "      <td>1.528917</td>\n",
       "      <td>Mamak Sessions:Episode 66 - From Giving Up, To...</td>\n",
       "    </tr>\n",
       "  </tbody>\n",
       "</table>\n",
       "</div>"
      ],
      "text/plain": [
       "            endTime               artistName  \\\n",
       "0  2020-09-28 08:07             Hikaru Utada   \n",
       "1  2020-09-28 18:59  Past Gas by Donut Media   \n",
       "2  2020-09-29 21:19           Mamak Sessions   \n",
       "3  2020-10-01 07:14           Mamak Sessions   \n",
       "4  2020-10-01 14:47           Mamak Sessions   \n",
       "\n",
       "                                           trackName  msPlayed  minsPlayed  \\\n",
       "0                   Automatic - Johnny Vicious Remix    225017    3.750283   \n",
       "1   The Murder of Racing Legend Mickey Thompson Pt.1   1587110   26.451833   \n",
       "2  Episode 66 - From Giving Up, To Getting A NETF...   2934420   48.907000   \n",
       "3  Episode 66 - From Giving Up, To Getting A NETF...    927154   15.452567   \n",
       "4  Episode 66 - From Giving Up, To Getting A NETF...     91735    1.528917   \n",
       "\n",
       "                                            UniqueID  \n",
       "0      Hikaru Utada:Automatic - Johnny Vicious Remix  \n",
       "1  Past Gas by Donut Media:The Murder of Racing L...  \n",
       "2  Mamak Sessions:Episode 66 - From Giving Up, To...  \n",
       "3  Mamak Sessions:Episode 66 - From Giving Up, To...  \n",
       "4  Mamak Sessions:Episode 66 - From Giving Up, To...  "
      ]
     },
     "execution_count": 19,
     "metadata": {},
     "output_type": "execute_result"
    }
   ],
   "source": [
    "dataStream = pd.read_json(streamingPath)\n",
    "dataStream['minsPlayed'] = dataStream['msPlayed']/60000\n",
    "dataStream['UniqueID'] = dataStream['artistName'] + ':' + dataStream['trackName']\n",
    "\n",
    "dataStream.head(5)"
   ]
  },
  {
   "cell_type": "markdown",
   "id": "0fcdaf18",
   "metadata": {},
   "source": [
    "## Read the nested your library JSON file containing multiple objects"
   ]
  },
  {
   "cell_type": "markdown",
   "id": "e26332c7",
   "metadata": {},
   "source": [
    "The JSON file associated with the user's library is a JSON file with nested objects. There are several objects of varying length and can at some times be empty. In this code implementation, it's known that the object containing artists in a library is not empty. However, it is important to check for other objects if they are empty. This code is also only interested in the yourArtists section of the JSON file containing the library information. "
   ]
  },
  {
   "cell_type": "code",
   "execution_count": 20,
   "id": "ea322092",
   "metadata": {},
   "outputs": [],
   "source": [
    "dataLibrary = pd.read_json(libraryPath, orient='index')\n",
    "\n",
    "# The index entries for tracks, albums, shows, episodes, bannedTracks, other are as follows: 0, 1, 2, 3, 4, 5, 6, 7\n",
    "yourArtists = strDictsToDF(pd.DataFrame(dataLibrary.iloc[0]))"
   ]
  },
  {
   "cell_type": "markdown",
   "id": "4d2fa5bc",
   "metadata": {},
   "source": [
    "## Processing the Data"
   ]
  },
  {
   "cell_type": "markdown",
   "id": "2c3776f9",
   "metadata": {},
   "source": [
    "Generate a new column in the yourArtists dataframe called, \"UniqueID.\" This column is made by combining the artist and track columns with a semicolon splitting them. Then another column is made consisting of just the Spotify track URI, called, \"track_uri.\""
   ]
  },
  {
   "cell_type": "code",
   "execution_count": 21,
   "id": "4afbdd40",
   "metadata": {},
   "outputs": [],
   "source": [
    "yourArtists['UniqueID'] = yourArtists['artist'] + ':' + yourArtists['track']\n",
    "yourArtists_uri = yourArtists['uri'].str.split(\":\", expand=True)\n",
    "yourArtists['track_uri'] = yourArtists_uri[2]"
   ]
  },
  {
   "cell_type": "markdown",
   "id": "47a8b304",
   "metadata": {},
   "source": [
    "Find all unique artist names found in the yourArtists dataframe that was created. This will be used later to compare between if a streamed item is a Podcast or not, this will help determine new monthly listens of songs. "
   ]
  },
  {
   "cell_type": "code",
   "execution_count": 22,
   "id": "0690545f",
   "metadata": {},
   "outputs": [
    {
     "name": "stdout",
     "output_type": "stream",
     "text": [
      "['DJ Okawari' 'Deb Never' 'Daniel Caesar' 'Marc Rebillet' 'serin oh'\n",
      " 'TOKiMONSTA' 'Ella Mai' 'KYLE' 'Nieman' 'Dumbfoundead' 'Aminé'\n",
      " 'Porter Robinson' 'hushlush' 'Hermitude' 'Doja Cat' 'iri' 'Hikaru Utada'\n",
      " 'ASIAN KUNG-FU GENERATION' 'Khalid' 'MALIYA' 'Jeremy Passion' 'Mat Zo'\n",
      " 'Gavin Turek' 'Rina Sawayama' 'Kehlani' 'Indigo la End' 'MIKNNA' 'LOONA'\n",
      " 'BUMKEY' 'HEIZE' 'Run River North' 'Hyolyn' 'TWICE' 'Lianne La Havas'\n",
      " 'RADWIMPS' 'Flownn' 'BTS' 'King Princess' 'SHACHI' 'Tamia' 'Shawn Wasabi'\n",
      " 'ネクライトーキー' \"Snail's House\" 'Andrés' 'Toploader' 'AUDREY NUNA'\n",
      " 'Passion Pit' 'ALLMO$T' 'Lake Street Dive' 'Victoria Monét' 'Mahalia'\n",
      " 'IO Echo' 'Carly Rae Jepsen' 'Louis The Child' 'mxmtoon' '88rising'\n",
      " 'Kero Kero Bonito' 'Andrew Huang' 'SATICA' '112' 'autumn keys' 'AKMU'\n",
      " 'Tyler, The Creator' 'Childish Gambino' 'ATARASHII GAKKO!' 'Awkwafina'\n",
      " 'Drake' 'Nadine Lustre' 'UMI' 'Melissa Polinar' 'Florence + The Machine'\n",
      " 'Lexie Liu' 'Covet' 'Afro Parker' 'Jay Park' 'Majid Jordan' 'Big Wild'\n",
      " 'The Head And The Heart' 'Home' 'Japanese Breakfast' 'Sarah Kang'\n",
      " 'Selah Sue' 'Yuna' 'MYRNE' 'Joe Hertz' 'Honey C' 'Tom Misch'\n",
      " 'Elayna Boynton' 'DOECHII' 'Alina Baraz' 'Vinida Weng' 'Samm Henshaw'\n",
      " 'POLKADOT STINGRAY' 'KANA-BOON' 'Azure' 'KEVIN WOO' 'XXXTENTACION'\n",
      " 'SG Lewis' 'MAX' 'Jessica Domingo' 'Jonas Blue' 'Lauv' 'Marc E. Bassy'\n",
      " 'Vickeblanka' 'OverDoz.' 'Masiwei' 'Dua Lipa' 'BIBI' 'Hayley Kiyoko'\n",
      " 'DANakaDAN' 'yama' 'Rexx Life Raj' 'Shawn Mendes' 'Usher' 'SAINTS'\n",
      " 'Kaskade' 'Labrinth' 'Kenshi Yonezu' 'Gareth.T' 'Tay Walker'\n",
      " 'Lost Souls Of Saturn' 'Kid Quill' 'Beyoncé' 'HONNE' 'The Voidz' 'Soovi'\n",
      " 'Wafia' 'Kero One' 'SHAUN' 'Kanye West' 'Cavetown' 'John Legend'\n",
      " 'Clara Benin' 'Curtis (冷炫忱)' 'Calvin Harris' 'December Avenue' 'Tinashe'\n",
      " 'Madeon' 'Dijon' 'H.E.R.' 'Jubël' 'Skylar Spence' 'Quinn XCII' 'Lykke Li'\n",
      " 'Swardy' 'Seven Lions' 'Zion.T' 'Jessi' 'Dhira Bongs' 'Shiloh Dynasty'\n",
      " 'Amy Ahn' 'David So' 'Eva Noblezada' 'Katherine Ho' 'GSoul'\n",
      " 'Phoebe Bridgers' 'Weeekly' 'TAMTAM' 'Warren Hue' 'jeebanoff' 'Fiji Blue'\n",
      " 'Breakbot' 'Mizuki Ohira' 'Disclosure' 'BAYNK' 'Joyce Wrice'\n",
      " 'Ariana and the Rose' 'MARINA' 'TV Girl' 'Yang Da Il' 'sky' 'Jooyoung'\n",
      " 'Galdive' 'WILLOW' 'KIDS SEE GHOSTS' 'Estelle' '6LACK' 'Ric Wilson'\n",
      " 'BANKS' 'she9' 'Yayyoung' 'Ed Sheeran' 'Far East Movement' 'Cash Cash'\n",
      " 'Alicia Keys' 'NIKI' 'Arizona Zervas' 'Next Town Down' 'Wolftyla' 'HAIM'\n",
      " 'Moon Sujin' 'dvsn' 'Stevie Wonder' 'Ylona Garcia' 'Orla Gartland'\n",
      " 'keshi' 'Leon Bridges']\n"
     ]
    }
   ],
   "source": [
    "uniqueArtistNames = yourArtists['artist'].unique()\n",
    "\n",
    "print(uniqueArtistNames)"
   ]
  },
  {
   "cell_type": "markdown",
   "id": "f5f2d226",
   "metadata": {},
   "source": [
    "Generate a master dataframe which is based on the streaming history dataframe. Then create two new columns called, \"In Library\" and \"Podcast.\" In Library is a column that consists of either 0s or 1s, if both the master dataframe and yourArtists contain the same UniqueID, then that means the track that was streamed is already in the library. Next, the Podcast column is used to determine if the streamed item is a song or a podcast. The artistName column in the master dataframe is compared with the list of uniqueArtistNames found. The list of uniqueArtistNames only list musical artists. Finally, the columns of \"album,\" \"UniqueID,\" and \"track_uri\" from yourArtists are merged with the master dataframe. "
   ]
  },
  {
   "cell_type": "code",
   "execution_count": 23,
   "id": "75382779",
   "metadata": {},
   "outputs": [],
   "source": [
    "dataTableau = dataStream.copy()\n",
    "dataTableau_len = len(dataTableau)\n",
    "dataTableau['In Library'] = np.where(dataTableau['UniqueID'].isin(yourArtists['UniqueID'].tolist()), 1, 0)\n",
    "dataTableau['Podcast'] = np.where(dataTableau['artistName'].isin(uniqueArtistNames.tolist()), 0, 1)\n",
    "dataTableau = pd.merge(dataTableau, yourArtists[['album', 'UniqueID', 'track_uri']], how='left', on=['UniqueID'])"
   ]
  },
  {
   "cell_type": "markdown",
   "id": "6596ae1f",
   "metadata": {},
   "source": [
    "In order to determine new song listens, the columns of \"In Library\" and \"Podcast\" of a given entry must be, 0. Once an entry is determined to be a new listen of a song, then the month when the song was listened to is found and recorded. "
   ]
  },
  {
   "cell_type": "code",
   "execution_count": 54,
   "id": "1946b51c",
   "metadata": {},
   "outputs": [
    {
     "data": {
      "text/html": [
       "<div>\n",
       "<style scoped>\n",
       "    .dataframe tbody tr th:only-of-type {\n",
       "        vertical-align: middle;\n",
       "    }\n",
       "\n",
       "    .dataframe tbody tr th {\n",
       "        vertical-align: top;\n",
       "    }\n",
       "\n",
       "    .dataframe thead th {\n",
       "        text-align: right;\n",
       "    }\n",
       "</style>\n",
       "<table border=\"1\" class=\"dataframe\">\n",
       "  <thead>\n",
       "    <tr style=\"text-align: right;\">\n",
       "      <th></th>\n",
       "      <th>2020</th>\n",
       "      <th>2021</th>\n",
       "      <th>Total 2020</th>\n",
       "      <th>Total 2021</th>\n",
       "    </tr>\n",
       "  </thead>\n",
       "  <tbody>\n",
       "    <tr>\n",
       "      <th>01</th>\n",
       "      <td>0</td>\n",
       "      <td>125</td>\n",
       "      <td>0</td>\n",
       "      <td>571</td>\n",
       "    </tr>\n",
       "    <tr>\n",
       "      <th>02</th>\n",
       "      <td>0</td>\n",
       "      <td>83</td>\n",
       "      <td>0</td>\n",
       "      <td>641</td>\n",
       "    </tr>\n",
       "    <tr>\n",
       "      <th>03</th>\n",
       "      <td>0</td>\n",
       "      <td>138</td>\n",
       "      <td>0</td>\n",
       "      <td>447</td>\n",
       "    </tr>\n",
       "    <tr>\n",
       "      <th>04</th>\n",
       "      <td>0</td>\n",
       "      <td>75</td>\n",
       "      <td>0</td>\n",
       "      <td>517</td>\n",
       "    </tr>\n",
       "    <tr>\n",
       "      <th>05</th>\n",
       "      <td>0</td>\n",
       "      <td>77</td>\n",
       "      <td>0</td>\n",
       "      <td>595</td>\n",
       "    </tr>\n",
       "    <tr>\n",
       "      <th>06</th>\n",
       "      <td>0</td>\n",
       "      <td>61</td>\n",
       "      <td>0</td>\n",
       "      <td>583</td>\n",
       "    </tr>\n",
       "    <tr>\n",
       "      <th>07</th>\n",
       "      <td>0</td>\n",
       "      <td>110</td>\n",
       "      <td>0</td>\n",
       "      <td>709</td>\n",
       "    </tr>\n",
       "    <tr>\n",
       "      <th>08</th>\n",
       "      <td>0</td>\n",
       "      <td>85</td>\n",
       "      <td>0</td>\n",
       "      <td>503</td>\n",
       "    </tr>\n",
       "    <tr>\n",
       "      <th>09</th>\n",
       "      <td>0</td>\n",
       "      <td>22</td>\n",
       "      <td>1</td>\n",
       "      <td>364</td>\n",
       "    </tr>\n",
       "    <tr>\n",
       "      <th>10</th>\n",
       "      <td>80</td>\n",
       "      <td>0</td>\n",
       "      <td>453</td>\n",
       "      <td>0</td>\n",
       "    </tr>\n",
       "    <tr>\n",
       "      <th>11</th>\n",
       "      <td>45</td>\n",
       "      <td>0</td>\n",
       "      <td>277</td>\n",
       "      <td>0</td>\n",
       "    </tr>\n",
       "    <tr>\n",
       "      <th>12</th>\n",
       "      <td>64</td>\n",
       "      <td>0</td>\n",
       "      <td>426</td>\n",
       "      <td>0</td>\n",
       "    </tr>\n",
       "  </tbody>\n",
       "</table>\n",
       "</div>"
      ],
      "text/plain": [
       "    2020  2021  Total 2020  Total 2021\n",
       "01     0   125           0         571\n",
       "02     0    83           0         641\n",
       "03     0   138           0         447\n",
       "04     0    75           0         517\n",
       "05     0    77           0         595\n",
       "06     0    61           0         583\n",
       "07     0   110           0         709\n",
       "08     0    85           0         503\n",
       "09     0    22           1         364\n",
       "10    80     0         453           0\n",
       "11    45     0         277           0\n",
       "12    64     0         426           0"
      ]
     },
     "execution_count": 54,
     "metadata": {},
     "output_type": "execute_result"
    }
   ],
   "source": [
    "newListensMonthly = pd.DataFrame([[0,0], [0,0], [0,0], [0,0], [0,0], [0,0], [0,0], [0,0], [0,0], [0,0], [0,0], [0,0]], \n",
    "                                 index=['01', '02', '03', '04', '05', '06', '07', '08', '09', '10', '11', '12'], \n",
    "                                 columns=['2020', '2021'])\n",
    "newListensMonthly['Total 2020'] = 0\n",
    "newListensMonthly['Total 2021'] = 0\n",
    "\n",
    "# Calculate how many new song listens occurred each month\n",
    "for i in range(0, len(dataTableau)): \n",
    "    # End time expanded to [year, month, day hour:min]\n",
    "    expandedTime = dataTableau['endTime'][i].split(\"-\")\n",
    "    \n",
    "    if ((dataTableau['In Library'][i] == 0) and dataTableau['Podcast'][i] == 0): \n",
    "        newListensMonthly[expandedTime[0]][expandedTime[1]] = newListensMonthly[expandedTime[0]][expandedTime[1]] + 1\n",
    "    elif (dataTableau['Podcast'][i] == 0): \n",
    "        if ( expandedTime[0] == '2020' ):\n",
    "            newListensMonthly['Total 2020'][expandedTime[1]] = newListensMonthly['Total 2020'][expandedTime[1]] + 1\n",
    "        elif( expandedTime[0] == '2021'): \n",
    "            newListensMonthly['Total 2021'][expandedTime[1]] = newListensMonthly['Total 2021'][expandedTime[1]] + 1\n",
    "    else: \n",
    "        continue\n",
    "        \n",
    "newListensMonthly.head(12)"
   ]
  },
  {
   "cell_type": "markdown",
   "id": "829a0868",
   "metadata": {},
   "source": [
    "Initially, the columns for the DataFrame newListensMonthly is the format of a string that looks like a two digit number. This format is useful when trying to count how many new listens per month occur but this will be changed in the code below which is nicer to display on a plot. "
   ]
  },
  {
   "cell_type": "code",
   "execution_count": 55,
   "id": "bcd8e208",
   "metadata": {},
   "outputs": [],
   "source": [
    "newListensMonthly.rename(columns={'01': 'Jan', '02': 'Feb', '03':'Mar', '04':'Apr', '05':'May',\n",
    "                                 '06':'Jun', '07':'Jul', '08':'Aug', '09':'Sept', '10':'Oct', '11':'Nov', '12':'Dec'}, inplace=True)"
   ]
  },
  {
   "cell_type": "markdown",
   "id": "15c580b6",
   "metadata": {},
   "source": [
    "## Plotting the Data"
   ]
  },
  {
   "cell_type": "markdown",
   "id": "f3200cbc",
   "metadata": {},
   "source": [
    "Plot a bar graph of new monthly song listens on Spotify for the given years on one plot.  "
   ]
  },
  {
   "cell_type": "code",
   "execution_count": 56,
   "id": "2750540d",
   "metadata": {},
   "outputs": [
    {
     "data": {
      "image/png": "[encoded data removed]",
      "text/plain": [
       "<Figure size 432x288 with 1 Axes>"
      ]
     },
     "metadata": {
      "needs_background": "light"
     },
     "output_type": "display_data"
    }
   ],
   "source": [
    "newListensMonthly.plot.bar(xlabel='Months', ylabel='No. of Listens', title='New Monthly Listens on Spotify 2020-2021', colormap='Paired').grid(axis='y')"
   ]
  },
  {
   "cell_type": "markdown",
   "id": "671f5f8e",
   "metadata": {},
   "source": [
    "Separate the two years of the dataframe into separate Series. "
   ]
  },
  {
   "cell_type": "code",
   "execution_count": 57,
   "id": "78664e3f",
   "metadata": {},
   "outputs": [],
   "source": [
    "newListens0 = newListensMonthly[['2020']].squeeze()\n",
    "newListens1 = newListensMonthly[['2021']].squeeze()"
   ]
  },
  {
   "cell_type": "markdown",
   "id": "d64b2c48",
   "metadata": {},
   "source": [
    "Plot a bar graph of the data from 2020."
   ]
  },
  {
   "cell_type": "code",
   "execution_count": 58,
   "id": "5e102f2e",
   "metadata": {},
   "outputs": [
    {
     "data": {
      "image/png": "[encoded data removed]",
      "text/plain": [
       "<Figure size 432x288 with 1 Axes>"
      ]
     },
     "metadata": {
      "needs_background": "light"
     },
     "output_type": "display_data"
    }
   ],
   "source": [
    "newListens0.plot.bar(xlabel='Months', ylabel='No. of Listens', title='New Song Listens per Month on Spotify in 2020').grid(axis='y')"
   ]
  },
  {
   "cell_type": "markdown",
   "id": "df19a5f0",
   "metadata": {},
   "source": [
    "Plot a bar graph of the data from 2021."
   ]
  },
  {
   "cell_type": "code",
   "execution_count": 59,
   "id": "5b3972a3",
   "metadata": {},
   "outputs": [
    {
     "data": {
      "image/png": "[encoded data removed]",
      "text/plain": [
       "<Figure size 432x288 with 1 Axes>"
      ]
     },
     "metadata": {
      "needs_background": "light"
     },
     "output_type": "display_data"
    }
   ],
   "source": [
    "newListens1.plot.bar(xlabel='Months', ylabel='No. of Listens', title='New Song Listens per Month on Spotify in 2021').grid(axis='y')"
   ]
  },
  {
   "cell_type": "code",
   "execution_count": null,
   "id": "a342a278",
   "metadata": {},
   "outputs": [],
   "source": []
  }
 ],
 "metadata": {
  "kernelspec": {
   "display_name": "Python 3 (ipykernel)",
   "language": "python",
   "name": "python3"
  },
  "language_info": {
   "codemirror_mode": {
    "name": "ipython",
    "version": 3
   },
   "file_extension": ".py",
   "mimetype": "text/x-python",
   "name": "python",
   "nbconvert_exporter": "python",
   "pygments_lexer": "ipython3",
   "version": "3.7.1"
  }
 },
 "nbformat": 4,
 "nbformat_minor": 5
}
